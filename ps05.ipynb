{
 "cells": [
  {
   "cell_type": "code",
   "execution_count": null,
   "metadata": {},
   "outputs": [],
   "source": [
    "## Felicity Le section C"
   ]
  },
  {
   "cell_type": "markdown",
   "metadata": {},
   "source": [
    "DS 256 Data Science Programming, Fall 2024\n",
    "\n",
    "Prof Eatai Roth\n",
    "\n",
    "## Problem Set 5\n",
    "Due 11/14/2024 by 8p"
   ]
  },
  {
   "cell_type": "markdown",
   "metadata": {},
   "source": [
    "## Titanic Pandas\n",
    "(sounds cute...is not)\n",
    "\n",
    "In this assignment, we'll explore the titanic training data set. These data represent a portion of the passenger manifest of the Titanic, detailing the passengers and whether or not they survived the fateful crash.\n",
    "\n",
    "The columns are mostly self-explanatory. Key to less-obvious columns:\n",
    " - Sex - male=1 / female=0 \n",
    " - Parch - number of parents/children traveling with\n",
    " - SibSp - numbers of siblings/spouses traveling with\n",
    " - PClass - ticket class (like first class, business, economy)\n",
    "\n",
    "\n",
    " To start, you should import packages, ```pandas``` (as pd) and ```matplotlib.pyplot``` (as plt). Then load the data from ```titanic_train_clean.csv``` into a pandas dataframe.\n",
    "\n",
    " Feel free to add more code blocks if needed. When making figures, don't forget to label axes and provide titles and legends when appropriate."
   ]
  },
  {
   "cell_type": "code",
   "execution_count": 3,
   "metadata": {},
   "outputs": [
    {
     "name": "stdout",
     "output_type": "stream",
     "text": [
      "<class 'pandas.core.frame.DataFrame'>\n",
      "RangeIndex: 891 entries, 0 to 890\n",
      "Data columns (total 14 columns):\n",
      " #   Column       Non-Null Count  Dtype  \n",
      "---  ------       --------------  -----  \n",
      " 0   Age          891 non-null    float64\n",
      " 1   Cabin        204 non-null    object \n",
      " 2   Embarked     891 non-null    object \n",
      " 3   Fare         891 non-null    float64\n",
      " 4   Name         891 non-null    object \n",
      " 5   Parch        891 non-null    int64  \n",
      " 6   PassengerId  891 non-null    int64  \n",
      " 7   Pclass       891 non-null    int64  \n",
      " 8   Sex          891 non-null    int64  \n",
      " 9   SibSp        891 non-null    int64  \n",
      " 10  Survived     891 non-null    int64  \n",
      " 11  Ticket       891 non-null    object \n",
      " 12  Title        891 non-null    object \n",
      " 13  Family_Size  891 non-null    int64  \n",
      "dtypes: float64(2), int64(7), object(5)\n",
      "memory usage: 97.6+ KB\n"
     ]
    },
    {
     "data": {
      "text/html": [
       "<div>\n",
       "<style scoped>\n",
       "    .dataframe tbody tr th:only-of-type {\n",
       "        vertical-align: middle;\n",
       "    }\n",
       "\n",
       "    .dataframe tbody tr th {\n",
       "        vertical-align: top;\n",
       "    }\n",
       "\n",
       "    .dataframe thead th {\n",
       "        text-align: right;\n",
       "    }\n",
       "</style>\n",
       "<table border=\"1\" class=\"dataframe\">\n",
       "  <thead>\n",
       "    <tr style=\"text-align: right;\">\n",
       "      <th></th>\n",
       "      <th>Age</th>\n",
       "      <th>Fare</th>\n",
       "      <th>Parch</th>\n",
       "      <th>PassengerId</th>\n",
       "      <th>Pclass</th>\n",
       "      <th>Sex</th>\n",
       "      <th>SibSp</th>\n",
       "      <th>Survived</th>\n",
       "      <th>Family_Size</th>\n",
       "    </tr>\n",
       "  </thead>\n",
       "  <tbody>\n",
       "    <tr>\n",
       "      <th>count</th>\n",
       "      <td>891.000000</td>\n",
       "      <td>891.000000</td>\n",
       "      <td>891.000000</td>\n",
       "      <td>891.000000</td>\n",
       "      <td>891.000000</td>\n",
       "      <td>891.000000</td>\n",
       "      <td>891.000000</td>\n",
       "      <td>891.000000</td>\n",
       "      <td>891.000000</td>\n",
       "    </tr>\n",
       "    <tr>\n",
       "      <th>mean</th>\n",
       "      <td>29.445196</td>\n",
       "      <td>32.204208</td>\n",
       "      <td>0.381594</td>\n",
       "      <td>446.000000</td>\n",
       "      <td>2.308642</td>\n",
       "      <td>0.647587</td>\n",
       "      <td>0.523008</td>\n",
       "      <td>0.383838</td>\n",
       "      <td>0.904602</td>\n",
       "    </tr>\n",
       "    <tr>\n",
       "      <th>std</th>\n",
       "      <td>13.244896</td>\n",
       "      <td>49.693429</td>\n",
       "      <td>0.806057</td>\n",
       "      <td>257.353842</td>\n",
       "      <td>0.836071</td>\n",
       "      <td>0.477990</td>\n",
       "      <td>1.102743</td>\n",
       "      <td>0.486592</td>\n",
       "      <td>1.613459</td>\n",
       "    </tr>\n",
       "    <tr>\n",
       "      <th>min</th>\n",
       "      <td>0.420000</td>\n",
       "      <td>0.000000</td>\n",
       "      <td>0.000000</td>\n",
       "      <td>1.000000</td>\n",
       "      <td>1.000000</td>\n",
       "      <td>0.000000</td>\n",
       "      <td>0.000000</td>\n",
       "      <td>0.000000</td>\n",
       "      <td>0.000000</td>\n",
       "    </tr>\n",
       "    <tr>\n",
       "      <th>25%</th>\n",
       "      <td>22.000000</td>\n",
       "      <td>7.910400</td>\n",
       "      <td>0.000000</td>\n",
       "      <td>223.500000</td>\n",
       "      <td>2.000000</td>\n",
       "      <td>0.000000</td>\n",
       "      <td>0.000000</td>\n",
       "      <td>0.000000</td>\n",
       "      <td>0.000000</td>\n",
       "    </tr>\n",
       "    <tr>\n",
       "      <th>50%</th>\n",
       "      <td>30.000000</td>\n",
       "      <td>14.454200</td>\n",
       "      <td>0.000000</td>\n",
       "      <td>446.000000</td>\n",
       "      <td>3.000000</td>\n",
       "      <td>1.000000</td>\n",
       "      <td>0.000000</td>\n",
       "      <td>0.000000</td>\n",
       "      <td>0.000000</td>\n",
       "    </tr>\n",
       "    <tr>\n",
       "      <th>75%</th>\n",
       "      <td>35.500000</td>\n",
       "      <td>31.000000</td>\n",
       "      <td>0.000000</td>\n",
       "      <td>668.500000</td>\n",
       "      <td>3.000000</td>\n",
       "      <td>1.000000</td>\n",
       "      <td>1.000000</td>\n",
       "      <td>1.000000</td>\n",
       "      <td>1.000000</td>\n",
       "    </tr>\n",
       "    <tr>\n",
       "      <th>max</th>\n",
       "      <td>80.000000</td>\n",
       "      <td>512.329200</td>\n",
       "      <td>6.000000</td>\n",
       "      <td>891.000000</td>\n",
       "      <td>3.000000</td>\n",
       "      <td>1.000000</td>\n",
       "      <td>8.000000</td>\n",
       "      <td>1.000000</td>\n",
       "      <td>10.000000</td>\n",
       "    </tr>\n",
       "  </tbody>\n",
       "</table>\n",
       "</div>"
      ],
      "text/plain": [
       "              Age        Fare       Parch  PassengerId      Pclass  \\\n",
       "count  891.000000  891.000000  891.000000   891.000000  891.000000   \n",
       "mean    29.445196   32.204208    0.381594   446.000000    2.308642   \n",
       "std     13.244896   49.693429    0.806057   257.353842    0.836071   \n",
       "min      0.420000    0.000000    0.000000     1.000000    1.000000   \n",
       "25%     22.000000    7.910400    0.000000   223.500000    2.000000   \n",
       "50%     30.000000   14.454200    0.000000   446.000000    3.000000   \n",
       "75%     35.500000   31.000000    0.000000   668.500000    3.000000   \n",
       "max     80.000000  512.329200    6.000000   891.000000    3.000000   \n",
       "\n",
       "              Sex       SibSp    Survived  Family_Size  \n",
       "count  891.000000  891.000000  891.000000   891.000000  \n",
       "mean     0.647587    0.523008    0.383838     0.904602  \n",
       "std      0.477990    1.102743    0.486592     1.613459  \n",
       "min      0.000000    0.000000    0.000000     0.000000  \n",
       "25%      0.000000    0.000000    0.000000     0.000000  \n",
       "50%      1.000000    0.000000    0.000000     0.000000  \n",
       "75%      1.000000    1.000000    1.000000     1.000000  \n",
       "max      1.000000    8.000000    1.000000    10.000000  "
      ]
     },
     "execution_count": 3,
     "metadata": {},
     "output_type": "execute_result"
    }
   ],
   "source": [
    "# Add the boilerplate code for importing the required packages and data\n",
    "# Importing the necessary libraries\n",
    "import pandas as pd\n",
    "import matplotlib.pyplot as plt\n",
    "\n",
    "# Load the Titanic dataset into a pandas dataframe\n",
    "df = pd.read_csv('titanic.csv')\n",
    "\n",
    "# Display the first few rows of the dataframe to check the data\n",
    "df.head()\n",
    "\n",
    "# Get basic information about the dataset\n",
    "df.info()\n",
    "\n",
    "# Display basic statistics about numeric columns\n",
    "df.describe()\n",
    "\n"
   ]
  },
  {
   "cell_type": "markdown",
   "metadata": {},
   "source": [
    "## Homework Problems\n",
    "\n",
    "For each of the problems, you'll write some code to find the answer. If there is a written/short answer component, use the provided text field."
   ]
  },
  {
   "cell_type": "markdown",
   "metadata": {},
   "source": [
    "### Problem 1\n",
    "\n",
    " - How many passengers are recorded in this log?\n",
    " - What percentage are male?\n",
    " - What percentage survived?\n",
    "\n",
    "Hint: You can find these three answers with a single command."
   ]
  },
  {
   "cell_type": "code",
   "execution_count": 5,
   "metadata": {},
   "outputs": [
    {
     "name": "stdout",
     "output_type": "stream",
     "text": [
      "Number of passengers: 891\n",
      "Percentage of male passengers: 64.76%\n",
      "Percentage of passengers who survived: 38.38%\n"
     ]
    }
   ],
   "source": [
    "'''your code here'''\n",
    "# Number of passengers\n",
    "num_passengers = len(df)\n",
    "\n",
    "# Percentage of male passengers (assuming 'Sex' column has 1 for male and 0 for female)\n",
    "percentage_male = df['Sex'].mean() * 100\n",
    "\n",
    "# Percentage of passengers who survived (assuming 'Survived' column has 1 for survived and 0 for did not survive)\n",
    "percentage_survived = df['Survived'].mean() * 100\n",
    "\n",
    "# Display results\n",
    "print(f\"Number of passengers: {num_passengers}\")\n",
    "print(f\"Percentage of male passengers: {percentage_male:.2f}%\")\n",
    "print(f\"Percentage of passengers who survived: {percentage_survived:.2f}%\")\n"
   ]
  },
  {
   "cell_type": "markdown",
   "metadata": {},
   "source": [
    "Your written answer:\n",
    "\n",
    " - <Answer 1>\n",
    " - <Answer 2>\n",
    " - <Answer 3>"
   ]
  },
  {
   "cell_type": "markdown",
   "metadata": {},
   "source": [
    "### Problem 2:\n",
    "\n",
    " - What percentage of female passengers survived?\n",
    " - What percentage of male passengers survived?"
   ]
  },
  {
   "cell_type": "code",
   "execution_count": 7,
   "metadata": {},
   "outputs": [
    {
     "name": "stdout",
     "output_type": "stream",
     "text": [
      "Percentage of female passengers who survived: 74.20%\n",
      "Percentage of male passengers who survived: 18.89%\n"
     ]
    }
   ],
   "source": [
    "'''your code here'''\n",
    "# Percentage of female passengers who survived\n",
    "percentage_female_survived = df[df['Sex'] == 0]['Survived'].mean() * 100\n",
    "\n",
    "# Percentage of male passengers who survived\n",
    "percentage_male_survived = df[df['Sex'] == 1]['Survived'].mean() * 100\n",
    "\n",
    "# Display results\n",
    "print(f\"Percentage of female passengers who survived: {percentage_female_survived:.2f}%\")\n",
    "print(f\"Percentage of male passengers who survived: {percentage_male_survived:.2f}%\")"
   ]
  },
  {
   "cell_type": "markdown",
   "metadata": {},
   "source": [
    "Your written answer:\n",
    "\n",
    " - <Answer 1>\n",
    " - <Answer 2>"
   ]
  },
  {
   "cell_type": "markdown",
   "metadata": {},
   "source": [
    "### Problem 3\n",
    "\n",
    "Use ```groupby``` and ```agg``` to find the percentage of the total tickets and the survivorship percentage for each class of ticket."
   ]
  },
  {
   "cell_type": "code",
   "execution_count": 13,
   "metadata": {},
   "outputs": [
    {
     "name": "stdout",
     "output_type": "stream",
     "text": [
      "Class 1\n",
      "% tickets: 24.24%\n",
      "% survivorship: 62.96%\n",
      "\n",
      "Class 2\n",
      "% tickets: 20.65%\n",
      "% survivorship: 47.28%\n",
      "\n",
      "Class 3\n",
      "% tickets: 55.11%\n",
      "% survivorship: 24.24%\n",
      "\n"
     ]
    }
   ],
   "source": [
    "'''your code here'''\n",
    "# Group by Pclass and aggregate the percentage of tickets and survivorship percentage\n",
    "ticket_and_survival = df.groupby('Pclass').agg(\n",
    "    total_tickets=('Pclass', 'size'),  # Count of tickets for each class\n",
    "    survivorship_percentage=('Survived', 'mean')  # Mean survival rate for each class\n",
    ")\n",
    "\n",
    "# Calculate percentage of total tickets\n",
    "ticket_and_survival['% tickets'] = (ticket_and_survival['total_tickets'] / num_passengers) * 100\n",
    "\n",
    "# Calculate percentage of survivorship\n",
    "ticket_and_survival['% survivorship'] = ticket_and_survival['survivorship_percentage'] * 100\n",
    "\n",
    "# Print results in the desired format\n",
    "for pclass in [1, 2, 3]:\n",
    "    print(f\"Class {pclass}\")\n",
    "    print(f\"% tickets: {ticket_and_survival.loc[pclass, '% tickets']:.2f}%\")\n",
    "    print(f\"% survivorship: {ticket_and_survival.loc[pclass, '% survivorship']:.2f}%\")\n",
    "    print()  # Adding a newline for better readability\n"
   ]
  },
  {
   "cell_type": "markdown",
   "metadata": {},
   "source": [
    "Your written answer:\n",
    "\n",
    " - Class 1 \n",
    "    - % tickets:\n",
    "    - % survivorship: \n",
    "- Class 2 \n",
    "    - % tickets:\n",
    "    - % survivorship: \n",
    "- Class 3\n",
    "    - % tickets:\n",
    "    - % survivorship: \n"
   ]
  },
  {
   "cell_type": "markdown",
   "metadata": {},
   "source": [
    "### Problem 4\n",
    "\n",
    "Create two new dataframes corresponding to survivors and non-survivors keeping only the columns: age, name, and sex. Display the first five rows of these new dataframes.\n",
    "\n",
    "Create a figure showing the distribution of age by sex and survivorship (four histograms on the same axes: male-survivors, female-survivors, male-unlucky, female-unlucky). Choose colors and histtype (see the [documentation for histogram](https://matplotlib.org/stable/api/_as_gen/matplotlib.pyplot.hist.html)) to make this figure easy to read and interpret."
   ]
  },
  {
   "cell_type": "code",
   "execution_count": 15,
   "metadata": {},
   "outputs": [
    {
     "name": "stdout",
     "output_type": "stream",
     "text": [
      "Survivors DataFrame (First 5 rows):\n",
      "    Age                                               Name  Sex\n",
      "1  38.0  Cumings, Mrs. John Bradley (Florence Briggs Th...    0\n",
      "2  26.0                             Heikkinen, Miss. Laina    0\n",
      "3  35.0       Futrelle, Mrs. Jacques Heath (Lily May Peel)    0\n",
      "8  27.0  Johnson, Mrs. Oscar W (Elisabeth Vilhelmina Berg)    0\n",
      "9  14.0                Nasser, Mrs. Nicholas (Adele Achem)    0\n",
      "\n",
      "Non-Survivors DataFrame (First 5 rows):\n",
      "    Age                            Name  Sex\n",
      "0  22.0         Braund, Mr. Owen Harris    1\n",
      "4  35.0        Allen, Mr. William Henry    1\n",
      "5  30.0                Moran, Mr. James    1\n",
      "6  54.0         McCarthy, Mr. Timothy J    1\n",
      "7   2.0  Palsson, Master. Gosta Leonard    1\n"
     ]
    },
    {
     "data": {
      "image/png": "[encoded data removed]",
      "text/plain": [
       "<Figure size 1000x600 with 1 Axes>"
      ]
     },
     "metadata": {},
     "output_type": "display_data"
    }
   ],
   "source": [
    "'''Your code here'''\n",
    "# Step 1: Create dataframes for survivors and non-survivors\n",
    "survivors = df[df['Survived'] == 1][['Age', 'Name', 'Sex']]\n",
    "non_survivors = df[df['Survived'] == 0][['Age', 'Name', 'Sex']]\n",
    "\n",
    "# Display the first five rows of these new dataframes\n",
    "print(\"Survivors DataFrame (First 5 rows):\")\n",
    "print(survivors.head())\n",
    "\n",
    "print(\"\\nNon-Survivors DataFrame (First 5 rows):\")\n",
    "print(non_survivors.head())\n",
    "\n",
    "# Step 2: Plot the histograms\n",
    "import matplotlib.pyplot as plt\n",
    "\n",
    "# Set up the figure and axes\n",
    "plt.figure(figsize=(10, 6))\n",
    "\n",
    "# Plot histograms\n",
    "plt.hist([survivors[survivors['Sex'] == 1]['Age'], survivors[survivors['Sex'] == 0]['Age']], \n",
    "         bins=20, alpha=0.5, label=['Male Survivors', 'Female Survivors'], histtype='step', linestyle='-', color=['blue', 'pink'])\n",
    "plt.hist([non_survivors[non_survivors['Sex'] == 1]['Age'], non_survivors[non_survivors['Sex'] == 0]['Age']], \n",
    "         bins=20, alpha=0.5, label=['Male Non-Survivors', 'Female Non-Survivors'], histtype='step', linestyle='--', color=['darkblue', 'darkred'])\n",
    "\n",
    "# Add labels and title\n",
    "plt.xlabel('Age')\n",
    "plt.ylabel('Frequency')\n",
    "plt.title('Distribution of Age by Sex and Survivorship')\n",
    "\n",
    "# Add legend\n",
    "plt.legend()\n",
    "\n",
    "# Show the plot\n",
    "plt.show()"
   ]
  },
  {
   "cell_type": "markdown",
   "metadata": {},
   "source": [
    "### Problem 5\n",
    "\n",
    "Now that we've inspected the data, let's build a classifier (you'll compare two models) that predicts which passengers survived. These are the steps you should take:\n",
    "\n",
    " - Choose your features. The label will be survivorship.\n",
    " - Split the data into training and test sets.\n",
    " - Standardize the values using StandardScaler\n",
    " - Choose two of the following model types: KNN, SVM, Decision Tree. Create those models and select hyper-parameters.\n",
    " - Fit your models to the training data.\n",
    " - Apply the fit models to create predictions from the test data.\n",
    " - For each model, create a confusion matrix for the training and test data. You may want to revisit the hyper-parameters and re-fit the models.\n",
    "\n",
    " - Answer the questions at the bottom of the code block."
   ]
  },
  {
   "cell_type": "code",
   "execution_count": 20,
   "metadata": {},
   "outputs": [
    {
     "name": "stdout",
     "output_type": "stream",
     "text": [
      "KNN Model Confusion Matrix (Training Data):\n",
      "[[402  42]\n",
      " [ 54 214]]\n",
      "\n",
      "KNN Model Confusion Matrix (Test Data):\n",
      "[[88 17]\n",
      " [17 57]]\n",
      "\n",
      "Decision Tree Model Confusion Matrix (Training Data):\n",
      "[[443   1]\n",
      " [ 14 254]]\n",
      "\n",
      "Decision Tree Model Confusion Matrix (Test Data):\n",
      "[[86 19]\n",
      " [20 54]]\n"
     ]
    },
    {
     "name": "stderr",
     "output_type": "stream",
     "text": [
      "/var/folders/fp/g__8qytx5gd9bz101yt_3zvr0000gn/T/ipykernel_2185/1901629497.py:12: SettingWithCopyWarning: \n",
      "A value is trying to be set on a copy of a slice from a DataFrame.\n",
      "Try using .loc[row_indexer,col_indexer] = value instead\n",
      "\n",
      "See the caveats in the documentation: https://pandas.pydata.org/pandas-docs/stable/user_guide/indexing.html#returning-a-view-versus-a-copy\n",
      "  X['Sex'] = X['Sex'].astype('category')  # Convert Sex to categorical variable\n",
      "/var/folders/fp/g__8qytx5gd9bz101yt_3zvr0000gn/T/ipykernel_2185/1901629497.py:16: FutureWarning: A value is trying to be set on a copy of a DataFrame or Series through chained assignment using an inplace method.\n",
      "The behavior will change in pandas 3.0. This inplace method will never work because the intermediate object on which we are setting values always behaves as a copy.\n",
      "\n",
      "For example, when doing 'df[col].method(value, inplace=True)', try using 'df.method({col: value}, inplace=True)' or df[col] = df[col].method(value) instead, to perform the operation inplace on the original object.\n",
      "\n",
      "\n",
      "  X['Age'].fillna(X['Age'].median(), inplace=True)\n",
      "/var/folders/fp/g__8qytx5gd9bz101yt_3zvr0000gn/T/ipykernel_2185/1901629497.py:17: FutureWarning: A value is trying to be set on a copy of a DataFrame or Series through chained assignment using an inplace method.\n",
      "The behavior will change in pandas 3.0. This inplace method will never work because the intermediate object on which we are setting values always behaves as a copy.\n",
      "\n",
      "For example, when doing 'df[col].method(value, inplace=True)', try using 'df.method({col: value}, inplace=True)' or df[col] = df[col].method(value) instead, to perform the operation inplace on the original object.\n",
      "\n",
      "\n",
      "  X['Fare'].fillna(X['Fare'].median(), inplace=True)\n"
     ]
    }
   ],
   "source": [
    "'''Your code here'''\n",
    "# Step 1: Preprocessing\n",
    "from sklearn.model_selection import train_test_split\n",
    "from sklearn.preprocessing import StandardScaler\n",
    "from sklearn.neighbors import KNeighborsClassifier\n",
    "from sklearn.tree import DecisionTreeClassifier\n",
    "from sklearn.metrics import confusion_matrix\n",
    "import pandas as pd\n",
    "\n",
    "# Select features and label\n",
    "X = df[['Age', 'Sex', 'Pclass', 'SibSp', 'Parch', 'Fare']]\n",
    "X['Sex'] = X['Sex'].astype('category')  # Convert Sex to categorical variable\n",
    "X = pd.get_dummies(X, drop_first=True)  # One-hot encode categorical variables\n",
    "\n",
    "# Handle missing values (fill NaN values with the median)\n",
    "X['Age'].fillna(X['Age'].median(), inplace=True)\n",
    "X['Fare'].fillna(X['Fare'].median(), inplace=True)\n",
    "\n",
    "y = df['Survived']  # Target variable (label)\n",
    "\n",
    "# Step 2: Train and Test Split\n",
    "X_train, X_test, y_train, y_test = train_test_split(X, y, test_size=0.2, random_state=42)\n",
    "\n",
    "# Step 3: Standardizing Data\n",
    "scaler = StandardScaler()\n",
    "X_train_scaled = scaler.fit_transform(X_train)\n",
    "X_test_scaled = scaler.transform(X_test)\n",
    "\n",
    "# Step 4: Build Models\n",
    "\n",
    "# KNN Model\n",
    "knn = KNeighborsClassifier(n_neighbors=5)\n",
    "knn.fit(X_train_scaled, y_train)\n",
    "\n",
    "# Decision Tree Model\n",
    "dt = DecisionTreeClassifier(random_state=42)\n",
    "dt.fit(X_train_scaled, y_train)\n",
    "\n",
    "# Step 5: Evaluate Models with Confusion Matrices\n",
    "# KNN Confusion Matrix (Training Data)\n",
    "knn_train_preds = knn.predict(X_train_scaled)\n",
    "knn_train_cm = confusion_matrix(y_train, knn_train_preds)\n",
    "\n",
    "# KNN Confusion Matrix (Test Data)\n",
    "knn_test_preds = knn.predict(X_test_scaled)\n",
    "knn_test_cm = confusion_matrix(y_test, knn_test_preds)\n",
    "\n",
    "# Decision Tree Confusion Matrix (Training Data)\n",
    "dt_train_preds = dt.predict(X_train_scaled)\n",
    "dt_train_cm = confusion_matrix(y_train, dt_train_preds)\n",
    "\n",
    "# Decision Tree Confusion Matrix (Test Data)\n",
    "dt_test_preds = dt.predict(X_test_scaled)\n",
    "dt_test_cm = confusion_matrix(y_test, dt_test_preds)\n",
    "\n",
    "# Print results\n",
    "print(\"KNN Model Confusion Matrix (Training Data):\")\n",
    "print(knn_train_cm)\n",
    "print(\"\\nKNN Model Confusion Matrix (Test Data):\")\n",
    "print(knn_test_cm)\n",
    "\n",
    "print(\"\\nDecision Tree Model Confusion Matrix (Training Data):\")\n",
    "print(dt_train_cm)\n",
    "print(\"\\nDecision Tree Model Confusion Matrix (Test Data):\")\n",
    "print(dt_test_cm)"
   ]
  },
  {
   "cell_type": "markdown",
   "metadata": {},
   "source": [
    "#### **Questions**\n",
    "\n",
    "How does the model performance on the test data compare to the performance on the training data? \n",
    " \n",
    " - KNN Model:\n",
    "On training data, KNN performed well with few misclassifications. However, on test data, it struggled more, showing more false positives and negatives, indicating overfitting.\n",
    "\n",
    "- Decision Tree Model:\n",
    "On training data, the Decision Tree also performed well, but on test data, its performance dropped slightly, with a small increase in misclassifications. It still performed better than KNN on test data.\n",
    "\n",
    "\n",
    "Which models did you fit and which worked better?\n",
    " \n",
    " - Models Fitted: I used KNN (K-Nearest Neighbors) and Decision Tree models.\n",
    "\n",
    "- The Decision Tree worked better because it performed more consistently on both training and test data, while KNN showed signs of overfitting and performed worse on the test data."
   ]
  }
 ],
 "metadata": {
  "kernelspec": {
   "display_name": "Python 3 (ipykernel)",
   "language": "python",
   "name": "python3"
  },
  "language_info": {
   "codemirror_mode": {
    "name": "ipython",
    "version": 3
   },
   "file_extension": ".py",
   "mimetype": "text/x-python",
   "name": "python",
   "nbconvert_exporter": "python",
   "pygments_lexer": "ipython3",
   "version": "3.12.7"
  }
 },
 "nbformat": 4,
 "nbformat_minor": 4
}
